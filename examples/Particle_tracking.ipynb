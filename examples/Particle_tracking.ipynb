{
 "cells": [
  {
   "cell_type": "code",
   "execution_count": null,
   "metadata": {},
   "outputs": [],
   "source": [
    "%matplotlib notebook"
   ]
  },
  {
   "cell_type": "code",
   "execution_count": null,
   "metadata": {},
   "outputs": [],
   "source": [
    "from IPython.core.display import display, HTML\n",
    "display(HTML(\"<style>.container { width:80% !important; }</style>\"))"
   ]
  },
  {
   "cell_type": "code",
   "execution_count": null,
   "metadata": {},
   "outputs": [],
   "source": [
    "import os\n",
    "os.chdir('../')\n",
    "import scipy.io\n",
    "import numpy as np\n",
    "import matplotlib.pyplot as plt\n",
    "import ipywidgets as widgets\n",
    "from ipywidgets import interact\n",
    "from particle_tracker_one_d.particle_tracker import ParticleTracker\n",
    "from particle_tracker_one_d.shortest_path_finder import ShortestPathFinder"
   ]
  },
  {
   "cell_type": "markdown",
   "metadata": {},
   "source": [
    "# Quick start"
   ]
  },
  {
   "cell_type": "code",
   "execution_count": null,
   "metadata": {
    "scrolled": false
   },
   "outputs": [],
   "source": [
    "import matplotlib.pyplot as plt\n",
    "import numpy as np\n",
    "from particle_tracker_one_d import ParticleTracker\n",
    "\n",
    "# Import the frames and the time data\n",
    "frames = np.load('examples/frames.npy')\n",
    "time = np.load('examples/time.npy')\n",
    "\n",
    "# Normalise the intensity\n",
    "frames_normalised = ParticleTracker.normalise_intensity(frames)\n",
    "\n",
    "# Create a particle tracker instance\n",
    "pt = ParticleTracker(frames=frames_normalised, time=time)\n",
    "\n",
    "# Set the properies of the particle tracker\n",
    "pt.boxcar_width = 10\n",
    "pt.integration_radius_of_intensity_peaks = 25\n",
    "pt.particle_detection_threshold = 0.9\n",
    "pt.maximum_number_of_frames_a_particle_can_disappear_and_still_be_linked_to_other_particles = 5\n",
    "pt.maximum_distance_a_particle_can_travel_between_frames = 50\n",
    "\n",
    "\n",
    "# Create a figure\n",
    "plt.figure(figsize=(10,10))\n",
    "ax=plt.axes()\n",
    "\n",
    "# Plot the kymograph\n",
    "pt.plot_all_frames(ax=ax, aspect='auto')\n",
    "\n",
    "# Plot all the trajectories\n",
    "for t in pt.trajectories:\n",
    "    t.plot_trajectory(ax=ax, marker='o')"
   ]
  },
  {
   "cell_type": "markdown",
   "metadata": {},
   "source": [
    "# Plot one trajectory"
   ]
  },
  {
   "cell_type": "code",
   "execution_count": null,
   "metadata": {},
   "outputs": [],
   "source": [
    "length_trajectory = 0\n",
    "index_of_longest_trajectory = 0\n",
    "for index, t in enumerate(pt.trajectories):\n",
    "    if t.particle_positions.shape[0] > length_trajectory:\n",
    "        length_trajectory = t.particle_positions.shape[0]\n",
    "        index_of_longest_trajectory = index\n",
    "\n",
    "        \n",
    "trajectory = pt.trajectories[index_of_longest_trajectory]\n",
    "\n",
    "\n",
    "\n",
    "# Create a figure\n",
    "plt.figure(figsize=(10,10))\n",
    "ax=plt.axes()\n",
    "\n",
    "# Plot the kymograph\n",
    "pt.plot_all_frames(ax=ax, aspect='auto')\n",
    "\n",
    "\n",
    "trajectory.plot_trajectory()"
   ]
  },
  {
   "cell_type": "code",
   "execution_count": null,
   "metadata": {},
   "outputs": [],
   "source": [
    "fig = plt.figure(figsize=(5,15))\n",
    "ax = plt.axes()\n",
    "pt.plot_all_frames(ax=ax, aspect='auto')\n",
    "\n",
    "start_point = (50, 75)\n",
    "end_point = (159,265)\n",
    "\n",
    "ax.plot(start_point[1], start_point[0],marker='o')\n",
    "ax.plot(end_point[1], end_point[0],marker='o')\n",
    "fig.tight_layout()"
   ]
  },
  {
   "cell_type": "markdown",
   "metadata": {},
   "source": [
    "# Find shortest path"
   ]
  },
  {
   "cell_type": "code",
   "execution_count": null,
   "metadata": {},
   "outputs": [],
   "source": [
    "import cProfile"
   ]
  },
  {
   "cell_type": "code",
   "execution_count": null,
   "metadata": {
    "scrolled": false
   },
   "outputs": [],
   "source": [
    "# Import the frames and the time data\n",
    "frames = np.load('examples/frames.npy')\n",
    "time = np.load('examples/time.npy')\n",
    "\n",
    "# Normalise the intensity\n",
    "frames_normalised = ParticleTracker.normalise_intensity(frames)\n",
    "\n",
    "pt = ParticleTracker(frames_normalised,time)\n",
    "\n",
    "# Create a shortest path finder instance\n",
    "spf = ShortestPathFinder(frames=frames_normalised, time=time)\n",
    "\n",
    "# Set the properies of the path finder\n",
    "spf.boxcar_width = 20\n",
    "spf.integration_radius_of_intensity_peaks = 10\n",
    "\n",
    "# Set start point\n",
    "spf.start_point = start_point\n",
    "\n",
    "# Set end point\n",
    "cProfile.run('spf.end_point = end_point')\n",
    "#cProfile.run('spf.end_point = (22,140)')"
   ]
  },
  {
   "cell_type": "code",
   "execution_count": null,
   "metadata": {},
   "outputs": [],
   "source": [
    "t = spf.trajectory\n",
    "#t._particle_positions['frame_index'] = t._particle_positions['frame_index'] - t._particle_positions['frame_index'][0]\n",
    "\n",
    "fig = plt.figure(figsize=(5,15))\n",
    "ax = plt.axes()\n",
    "\n",
    "\n",
    "pt.plot_all_frames(ax=ax, aspect='auto')\n",
    "#ax.imshow(spf._intensity_of_interest,aspect='auto')\n",
    "\n",
    "t.plot_trajectory(ax=ax, marker='o')\n",
    "fig.tight_layout()"
   ]
  },
  {
   "cell_type": "code",
   "execution_count": null,
   "metadata": {
    "scrolled": false
   },
   "outputs": [],
   "source": [
    "spf._cost_matrix[-1]"
   ]
  },
  {
   "cell_type": "code",
   "execution_count": null,
   "metadata": {},
   "outputs": [],
   "source": [
    "particles = [p.shape[0] for p in spf._particle_positions]\n",
    "particles"
   ]
  },
  {
   "cell_type": "code",
   "execution_count": null,
   "metadata": {},
   "outputs": [],
   "source": [
    "21*28*35*25*27*22"
   ]
  },
  {
   "cell_type": "code",
   "execution_count": null,
   "metadata": {},
   "outputs": [],
   "source": [
    "fig = plt.figure()\n",
    "ax = plt.axes()\n",
    "\n",
    "ax.plot(spf._intensity_of_interest[1])"
   ]
  }
 ],
 "metadata": {
  "kernelspec": {
   "display_name": "Python 3",
   "language": "python",
   "name": "python3"
  },
  "language_info": {
   "codemirror_mode": {
    "name": "ipython",
    "version": 3
   },
   "file_extension": ".py",
   "mimetype": "text/x-python",
   "name": "python",
   "nbconvert_exporter": "python",
   "pygments_lexer": "ipython3",
   "version": "3.6.8"
  }
 },
 "nbformat": 4,
 "nbformat_minor": 2
}
